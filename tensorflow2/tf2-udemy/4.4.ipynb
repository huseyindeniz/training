{
 "cells": [
  {
   "cell_type": "markdown",
   "metadata": {},
   "source": [
    "# Activation Functions\n",
    "\n",
    "- Sigmoid\n",
    "- Hyperbolic tangent\n",
    "\n",
    "### The Vanishing Gradient Problem\n",
    "\n",
    "- ReLU (Rectifier Linear Unit)\n",
    "- LReLU (Leaky ReLU)\n",
    "- ELU (Exponential Linear Unit)\n",
    "- Softplus\n",
    "\n",
    "- BRU Activation (Bionodal Root Unit)"
   ]
  },
  {
   "cell_type": "code",
   "execution_count": null,
   "metadata": {},
   "outputs": [],
   "source": []
  }
 ],
 "metadata": {
  "kernelspec": {
   "display_name": "Python 3",
   "language": "python",
   "name": "python3"
  },
  "language_info": {
   "codemirror_mode": {
    "name": "ipython",
    "version": 3
   },
   "file_extension": ".py",
   "mimetype": "text/x-python",
   "name": "python",
   "nbconvert_exporter": "python",
   "pygments_lexer": "ipython3",
   "version": "3.6.9"
  }
 },
 "nbformat": 4,
 "nbformat_minor": 2
}
