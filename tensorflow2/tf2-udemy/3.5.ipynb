{
 "cells": [
  {
   "cell_type": "markdown",
   "metadata": {},
   "source": [
    "# Linear Regression"
   ]
  },
  {
   "cell_type": "code",
   "execution_count": 1,
   "metadata": {},
   "outputs": [],
   "source": [
    "# Install Tensorflow\n",
    "# direct tensorflow installation throws tensorboard version error on my env\n",
    "# so install tensorboard 2.0.0 first\n",
    "# ! pip install tensorboard==2.0.0\n",
    "# ! pip install tensorflow==2.0.0"
   ]
  },
  {
   "cell_type": "code",
   "execution_count": 2,
   "metadata": {},
   "outputs": [
    {
     "name": "stdout",
     "output_type": "stream",
     "text": [
      "2.0.0\n"
     ]
    }
   ],
   "source": [
    "import tensorflow as tf\n",
    "print(tf.__version__)"
   ]
  },
  {
   "cell_type": "code",
   "execution_count": 3,
   "metadata": {},
   "outputs": [],
   "source": [
    "# Other imports\n",
    "import pandas as pd\n",
    "import numpy as np\n",
    "import matplotlib.pyplot as plt"
   ]
  },
  {
   "cell_type": "markdown",
   "metadata": {},
   "source": [
    "Get the data\n",
    "https://raw.githubusercontent.com/lazyprogrammer/machine_learning_examples/master/tf2.0/moore.csv"
   ]
  },
  {
   "cell_type": "code",
   "execution_count": 4,
   "metadata": {},
   "outputs": [],
   "source": [
    "# Load in the data\n",
    "data = pd.read_csv('../../../data/moore.csv', header=None).values\n",
    "X = data[:,0].reshape(-1,1) # make it a 2-D array of size N X D where D = 1\n",
    "Y = data[:,1]"
   ]
  },
  {
   "cell_type": "code",
   "execution_count": 5,
   "metadata": {},
   "outputs": [
    {
     "data": {
      "text/plain": [
       "<matplotlib.collections.PathCollection at 0x7f34796308d0>"
      ]
     },
     "execution_count": 5,
     "metadata": {},
     "output_type": "execute_result"
    },
    {
     "data": {
      "image/png": "[encoded data removed]",
      "text/plain": [
       "<Figure size 432x288 with 1 Axes>"
      ]
     },
     "metadata": {
      "needs_background": "light"
     },
     "output_type": "display_data"
    }
   ],
   "source": [
    "# Plot the data - it is exponential!\n",
    "plt.scatter(X, Y)"
   ]
  },
  {
   "cell_type": "code",
   "execution_count": 6,
   "metadata": {},
   "outputs": [
    {
     "data": {
      "text/plain": [
       "<matplotlib.collections.PathCollection at 0x7f3479183dd8>"
      ]
     },
     "execution_count": 6,
     "metadata": {},
     "output_type": "execute_result"
    },
    {
     "data": {
      "image/png": "[encoded data removed]",
      "text/plain": [
       "<Figure size 432x288 with 1 Axes>"
      ]
     },
     "metadata": {
      "needs_background": "light"
     },
     "output_type": "display_data"
    }
   ],
   "source": [
    "# Since we want a linear model, let's take the log\n",
    "Y = np.log(Y)\n",
    "plt.scatter(X, Y)"
   ]
  },
  {
   "cell_type": "code",
   "execution_count": 7,
   "metadata": {},
   "outputs": [],
   "source": [
    "# Let's also center the X data so the values are not too large\n",
    "# we could scale it too but then we'd have to reverse the transformation later\n",
    "X = X - X.mean()"
   ]
  },
  {
   "cell_type": "code",
   "execution_count": 8,
   "metadata": {},
   "outputs": [
    {
     "name": "stdout",
     "output_type": "stream",
     "text": [
      "Train on 162 samples\n",
      "Epoch 1/200\n",
      "162/162 [==============================] - 0s 2ms/sample - loss: 382.0484\n",
      "Epoch 2/200\n",
      "162/162 [==============================] - 0s 79us/sample - loss: 334.6552\n",
      "Epoch 3/200\n",
      "162/162 [==============================] - 0s 90us/sample - loss: 280.7384\n",
      "Epoch 4/200\n",
      "162/162 [==============================] - 0s 86us/sample - loss: 206.5017\n",
      "Epoch 5/200\n",
      "162/162 [==============================] - 0s 88us/sample - loss: 186.0576\n",
      "Epoch 6/200\n",
      "162/162 [==============================] - 0s 93us/sample - loss: 184.2987\n",
      "Epoch 7/200\n",
      "162/162 [==============================] - 0s 85us/sample - loss: 144.5045\n",
      "Epoch 8/200\n",
      "162/162 [==============================] - 0s 85us/sample - loss: 90.2165\n",
      "Epoch 9/200\n",
      "162/162 [==============================] - 0s 86us/sample - loss: 64.1583\n",
      "Epoch 10/200\n",
      "162/162 [==============================] - 0s 85us/sample - loss: 51.2118\n",
      "Epoch 11/200\n",
      "162/162 [==============================] - 0s 74us/sample - loss: 28.7775\n",
      "Epoch 12/200\n",
      "162/162 [==============================] - 0s 91us/sample - loss: 20.8513\n",
      "Epoch 13/200\n",
      "162/162 [==============================] - 0s 102us/sample - loss: 15.9719\n",
      "Epoch 14/200\n",
      "162/162 [==============================] - 0s 117us/sample - loss: 11.6489\n",
      "Epoch 15/200\n",
      "162/162 [==============================] - 0s 95us/sample - loss: 9.5866\n",
      "Epoch 16/200\n",
      "162/162 [==============================] - 0s 106us/sample - loss: 6.8182\n",
      "Epoch 17/200\n",
      "162/162 [==============================] - 0s 94us/sample - loss: 7.6977\n",
      "Epoch 18/200\n",
      "162/162 [==============================] - 0s 88us/sample - loss: 5.1305\n",
      "Epoch 19/200\n",
      "162/162 [==============================] - 0s 100us/sample - loss: 3.8351\n",
      "Epoch 20/200\n",
      "162/162 [==============================] - 0s 86us/sample - loss: 3.4511\n",
      "Epoch 21/200\n",
      "162/162 [==============================] - 0s 106us/sample - loss: 2.4354\n",
      "Epoch 22/200\n",
      "162/162 [==============================] - 0s 109us/sample - loss: 2.0063\n",
      "Epoch 23/200\n",
      "162/162 [==============================] - 0s 98us/sample - loss: 1.5216\n",
      "Epoch 24/200\n",
      "162/162 [==============================] - 0s 94us/sample - loss: 1.4127\n",
      "Epoch 25/200\n",
      "162/162 [==============================] - 0s 93us/sample - loss: 1.9608\n",
      "Epoch 26/200\n",
      "162/162 [==============================] - 0s 95us/sample - loss: 1.5240\n",
      "Epoch 27/200\n",
      "162/162 [==============================] - 0s 96us/sample - loss: 1.3253\n",
      "Epoch 28/200\n",
      "162/162 [==============================] - 0s 95us/sample - loss: 1.1014\n",
      "Epoch 29/200\n",
      "162/162 [==============================] - 0s 105us/sample - loss: 1.0344\n",
      "Epoch 30/200\n",
      "162/162 [==============================] - 0s 90us/sample - loss: 1.1028\n",
      "Epoch 31/200\n",
      "162/162 [==============================] - 0s 95us/sample - loss: 1.1332\n",
      "Epoch 32/200\n",
      "162/162 [==============================] - 0s 102us/sample - loss: 1.0079\n",
      "Epoch 33/200\n",
      "162/162 [==============================] - 0s 114us/sample - loss: 0.9310\n",
      "Epoch 34/200\n",
      "162/162 [==============================] - 0s 96us/sample - loss: 1.4949\n",
      "Epoch 35/200\n",
      "162/162 [==============================] - 0s 105us/sample - loss: 1.4434\n",
      "Epoch 36/200\n",
      "162/162 [==============================] - 0s 111us/sample - loss: 1.1349\n",
      "Epoch 37/200\n",
      "162/162 [==============================] - 0s 87us/sample - loss: 0.9765\n",
      "Epoch 38/200\n",
      "162/162 [==============================] - 0s 113us/sample - loss: 0.9362\n",
      "Epoch 39/200\n",
      "162/162 [==============================] - 0s 102us/sample - loss: 0.9133\n",
      "Epoch 40/200\n",
      "162/162 [==============================] - ETA: 0s - loss: 1.459 - 0s 88us/sample - loss: 0.9082\n",
      "Epoch 41/200\n",
      "162/162 [==============================] - 0s 89us/sample - loss: 0.8887\n",
      "Epoch 42/200\n",
      "162/162 [==============================] - 0s 123us/sample - loss: 0.9074\n",
      "Epoch 43/200\n",
      "162/162 [==============================] - 0s 122us/sample - loss: 0.8968\n",
      "Epoch 44/200\n",
      "162/162 [==============================] - 0s 90us/sample - loss: 1.0486\n",
      "Epoch 45/200\n",
      "162/162 [==============================] - 0s 105us/sample - loss: 1.2644\n",
      "Epoch 46/200\n",
      "162/162 [==============================] - 0s 96us/sample - loss: 1.3439\n",
      "Epoch 47/200\n",
      "162/162 [==============================] - 0s 99us/sample - loss: 1.0379\n",
      "Epoch 48/200\n",
      "162/162 [==============================] - 0s 109us/sample - loss: 0.9199\n",
      "Epoch 49/200\n",
      "162/162 [==============================] - 0s 106us/sample - loss: 0.9092\n",
      "Epoch 50/200\n",
      "162/162 [==============================] - 0s 96us/sample - loss: 1.1754\n",
      "Epoch 51/200\n",
      "162/162 [==============================] - 0s 97us/sample - loss: 1.6418\n",
      "Epoch 52/200\n",
      "162/162 [==============================] - 0s 107us/sample - loss: 1.5148\n",
      "Epoch 53/200\n",
      "162/162 [==============================] - 0s 105us/sample - loss: 0.9226\n",
      "Epoch 54/200\n",
      "162/162 [==============================] - 0s 98us/sample - loss: 1.0361\n",
      "Epoch 55/200\n",
      "162/162 [==============================] - 0s 98us/sample - loss: 0.9705\n",
      "Epoch 56/200\n",
      "162/162 [==============================] - 0s 67us/sample - loss: 0.8815\n",
      "Epoch 57/200\n",
      "162/162 [==============================] - 0s 73us/sample - loss: 0.9078\n",
      "Epoch 58/200\n",
      "162/162 [==============================] - 0s 71us/sample - loss: 0.8910\n",
      "Epoch 59/200\n",
      "162/162 [==============================] - 0s 74us/sample - loss: 0.8687\n",
      "Epoch 60/200\n",
      "162/162 [==============================] - 0s 80us/sample - loss: 0.8820\n",
      "Epoch 61/200\n",
      "162/162 [==============================] - 0s 81us/sample - loss: 0.8887\n",
      "Epoch 62/200\n",
      "162/162 [==============================] - 0s 83us/sample - loss: 0.8820\n",
      "Epoch 63/200\n",
      "162/162 [==============================] - 0s 77us/sample - loss: 0.8715\n",
      "Epoch 64/200\n",
      "162/162 [==============================] - 0s 74us/sample - loss: 0.8767\n",
      "Epoch 65/200\n",
      "162/162 [==============================] - 0s 78us/sample - loss: 0.8738\n",
      "Epoch 66/200\n",
      "162/162 [==============================] - 0s 72us/sample - loss: 0.8784\n",
      "Epoch 67/200\n",
      "162/162 [==============================] - 0s 75us/sample - loss: 0.8872\n",
      "Epoch 68/200\n",
      "162/162 [==============================] - 0s 83us/sample - loss: 0.8758\n",
      "Epoch 69/200\n",
      "162/162 [==============================] - 0s 72us/sample - loss: 0.8718\n",
      "Epoch 70/200\n",
      "162/162 [==============================] - 0s 86us/sample - loss: 0.8716\n",
      "Epoch 71/200\n",
      "162/162 [==============================] - 0s 91us/sample - loss: 0.8716\n",
      "Epoch 72/200\n",
      "162/162 [==============================] - 0s 100us/sample - loss: 0.8713\n",
      "Epoch 73/200\n",
      "162/162 [==============================] - 0s 84us/sample - loss: 0.8715\n",
      "Epoch 74/200\n",
      "162/162 [==============================] - 0s 109us/sample - loss: 0.8736\n",
      "Epoch 75/200\n",
      "162/162 [==============================] - 0s 81us/sample - loss: 0.8677\n",
      "Epoch 76/200\n",
      "162/162 [==============================] - 0s 74us/sample - loss: 0.8725\n",
      "Epoch 77/200\n",
      "162/162 [==============================] - 0s 70us/sample - loss: 0.8939\n",
      "Epoch 78/200\n",
      "162/162 [==============================] - 0s 69us/sample - loss: 0.8789\n",
      "Epoch 79/200\n",
      "162/162 [==============================] - 0s 84us/sample - loss: 0.8720\n",
      "Epoch 80/200\n",
      "162/162 [==============================] - 0s 69us/sample - loss: 0.9037\n",
      "Epoch 81/200\n",
      "162/162 [==============================] - 0s 74us/sample - loss: 0.9108\n",
      "Epoch 82/200\n",
      "162/162 [==============================] - 0s 71us/sample - loss: 0.8827\n",
      "Epoch 83/200\n",
      "162/162 [==============================] - 0s 75us/sample - loss: 0.8750\n",
      "Epoch 84/200\n",
      "162/162 [==============================] - 0s 66us/sample - loss: 0.8755\n",
      "Epoch 85/200\n",
      "162/162 [==============================] - 0s 69us/sample - loss: 0.8760\n",
      "Epoch 86/200\n",
      "162/162 [==============================] - 0s 76us/sample - loss: 0.8767\n",
      "Epoch 87/200\n",
      "162/162 [==============================] - 0s 77us/sample - loss: 0.8955\n",
      "Epoch 88/200\n",
      "162/162 [==============================] - 0s 69us/sample - loss: 0.9218\n",
      "Epoch 89/200\n",
      "162/162 [==============================] - 0s 67us/sample - loss: 0.8939\n",
      "Epoch 90/200\n",
      "162/162 [==============================] - 0s 69us/sample - loss: 0.9055\n",
      "Epoch 91/200\n",
      "162/162 [==============================] - 0s 67us/sample - loss: 0.8782\n",
      "Epoch 92/200\n",
      "162/162 [==============================] - 0s 75us/sample - loss: 0.8728\n",
      "Epoch 93/200\n",
      "162/162 [==============================] - 0s 78us/sample - loss: 0.8739\n",
      "Epoch 94/200\n",
      "162/162 [==============================] - 0s 77us/sample - loss: 0.8822\n",
      "Epoch 95/200\n"
     ]
    },
    {
     "name": "stdout",
     "output_type": "stream",
     "text": [
      "162/162 [==============================] - 0s 80us/sample - loss: 0.8906\n",
      "Epoch 96/200\n",
      "162/162 [==============================] - 0s 76us/sample - loss: 0.8700\n",
      "Epoch 97/200\n",
      "162/162 [==============================] - 0s 70us/sample - loss: 0.8798\n",
      "Epoch 98/200\n",
      "162/162 [==============================] - 0s 74us/sample - loss: 0.8780\n",
      "Epoch 99/200\n",
      "162/162 [==============================] - 0s 75us/sample - loss: 0.8705\n",
      "Epoch 100/200\n",
      "162/162 [==============================] - 0s 79us/sample - loss: 0.8896\n",
      "Epoch 101/200\n",
      "162/162 [==============================] - 0s 68us/sample - loss: 0.8789\n",
      "Epoch 102/200\n",
      "162/162 [==============================] - ETA: 0s - loss: 1.131 - 0s 63us/sample - loss: 0.8752\n",
      "Epoch 103/200\n",
      "162/162 [==============================] - 0s 72us/sample - loss: 0.8830\n",
      "Epoch 104/200\n",
      "162/162 [==============================] - 0s 70us/sample - loss: 0.8755\n",
      "Epoch 105/200\n",
      "162/162 [==============================] - 0s 88us/sample - loss: 0.8725\n",
      "Epoch 106/200\n",
      "162/162 [==============================] - 0s 76us/sample - loss: 0.8885\n",
      "Epoch 107/200\n",
      "162/162 [==============================] - 0s 95us/sample - loss: 0.8731\n",
      "Epoch 108/200\n",
      "162/162 [==============================] - 0s 74us/sample - loss: 0.8755\n",
      "Epoch 109/200\n",
      "162/162 [==============================] - 0s 73us/sample - loss: 0.8726\n",
      "Epoch 110/200\n",
      "162/162 [==============================] - 0s 71us/sample - loss: 0.8793\n",
      "Epoch 111/200\n",
      "162/162 [==============================] - 0s 81us/sample - loss: 0.8790\n",
      "Epoch 112/200\n",
      "162/162 [==============================] - 0s 76us/sample - loss: 0.8743\n",
      "Epoch 113/200\n",
      "162/162 [==============================] - 0s 80us/sample - loss: 0.8828\n",
      "Epoch 114/200\n",
      "162/162 [==============================] - 0s 79us/sample - loss: 0.9009\n",
      "Epoch 115/200\n",
      "162/162 [==============================] - 0s 73us/sample - loss: 0.8856\n",
      "Epoch 116/200\n",
      "162/162 [==============================] - 0s 64us/sample - loss: 0.8773\n",
      "Epoch 117/200\n",
      "162/162 [==============================] - 0s 78us/sample - loss: 0.8789\n",
      "Epoch 118/200\n",
      "162/162 [==============================] - 0s 68us/sample - loss: 0.8769\n",
      "Epoch 119/200\n",
      "162/162 [==============================] - 0s 73us/sample - loss: 0.8706\n",
      "Epoch 120/200\n",
      "162/162 [==============================] - 0s 74us/sample - loss: 0.8745\n",
      "Epoch 121/200\n",
      "162/162 [==============================] - 0s 69us/sample - loss: 0.8849\n",
      "Epoch 122/200\n",
      "162/162 [==============================] - 0s 68us/sample - loss: 0.8896\n",
      "Epoch 123/200\n",
      "162/162 [==============================] - 0s 73us/sample - loss: 0.8813\n",
      "Epoch 124/200\n",
      "162/162 [==============================] - 0s 73us/sample - loss: 0.8711\n",
      "Epoch 125/200\n",
      "162/162 [==============================] - 0s 64us/sample - loss: 0.8741\n",
      "Epoch 126/200\n",
      "162/162 [==============================] - 0s 69us/sample - loss: 0.9079\n",
      "Epoch 127/200\n",
      "162/162 [==============================] - 0s 71us/sample - loss: 0.9309\n",
      "Epoch 128/200\n",
      "162/162 [==============================] - 0s 72us/sample - loss: 0.8799\n",
      "Epoch 129/200\n",
      "162/162 [==============================] - 0s 74us/sample - loss: 0.8754\n",
      "Epoch 130/200\n",
      "162/162 [==============================] - 0s 63us/sample - loss: 0.8764\n",
      "Epoch 131/200\n",
      "162/162 [==============================] - 0s 72us/sample - loss: 0.8846\n",
      "Epoch 132/200\n",
      "162/162 [==============================] - 0s 80us/sample - loss: 0.8954\n",
      "Epoch 133/200\n",
      "162/162 [==============================] - 0s 90us/sample - loss: 0.8721\n",
      "Epoch 134/200\n",
      "162/162 [==============================] - 0s 84us/sample - loss: 0.8746\n",
      "Epoch 135/200\n",
      "162/162 [==============================] - 0s 81us/sample - loss: 0.8763\n",
      "Epoch 136/200\n",
      "162/162 [==============================] - 0s 78us/sample - loss: 0.8731\n",
      "Epoch 137/200\n",
      "162/162 [==============================] - 0s 82us/sample - loss: 0.8719\n",
      "Epoch 138/200\n",
      "162/162 [==============================] - 0s 73us/sample - loss: 0.8715\n",
      "Epoch 139/200\n",
      "162/162 [==============================] - 0s 74us/sample - loss: 0.8711\n",
      "Epoch 140/200\n",
      "162/162 [==============================] - 0s 99us/sample - loss: 0.8718\n",
      "Epoch 141/200\n",
      "162/162 [==============================] - 0s 93us/sample - loss: 0.8728\n",
      "Epoch 142/200\n",
      "162/162 [==============================] - 0s 122us/sample - loss: 0.8764\n",
      "Epoch 143/200\n",
      "162/162 [==============================] - 0s 77us/sample - loss: 0.8883\n",
      "Epoch 144/200\n",
      "162/162 [==============================] - 0s 66us/sample - loss: 0.8767\n",
      "Epoch 145/200\n",
      "162/162 [==============================] - 0s 92us/sample - loss: 0.8680\n",
      "Epoch 146/200\n",
      "162/162 [==============================] - 0s 70us/sample - loss: 0.8823\n",
      "Epoch 147/200\n",
      "162/162 [==============================] - 0s 74us/sample - loss: 0.8914\n",
      "Epoch 148/200\n",
      "162/162 [==============================] - 0s 78us/sample - loss: 0.8755\n",
      "Epoch 149/200\n",
      "162/162 [==============================] - 0s 79us/sample - loss: 0.8741\n",
      "Epoch 150/200\n",
      "162/162 [==============================] - 0s 73us/sample - loss: 0.8783\n",
      "Epoch 151/200\n",
      "162/162 [==============================] - 0s 79us/sample - loss: 0.9312\n",
      "Epoch 152/200\n",
      "162/162 [==============================] - 0s 78us/sample - loss: 0.9342\n",
      "Epoch 153/200\n",
      "162/162 [==============================] - 0s 59us/sample - loss: 0.8684\n",
      "Epoch 154/200\n",
      "162/162 [==============================] - 0s 71us/sample - loss: 0.8765\n",
      "Epoch 155/200\n",
      "162/162 [==============================] - 0s 73us/sample - loss: 0.8721\n",
      "Epoch 156/200\n",
      "162/162 [==============================] - 0s 72us/sample - loss: 0.8747\n",
      "Epoch 157/200\n",
      "162/162 [==============================] - 0s 64us/sample - loss: 0.8833\n",
      "Epoch 158/200\n",
      "162/162 [==============================] - 0s 69us/sample - loss: 0.9085\n",
      "Epoch 159/200\n",
      "162/162 [==============================] - 0s 76us/sample - loss: 0.9007\n",
      "Epoch 160/200\n",
      "162/162 [==============================] - 0s 82us/sample - loss: 0.8699\n",
      "Epoch 161/200\n",
      "162/162 [==============================] - 0s 91us/sample - loss: 0.8981\n",
      "Epoch 162/200\n",
      "162/162 [==============================] - 0s 82us/sample - loss: 0.8871\n",
      "Epoch 163/200\n",
      "162/162 [==============================] - 0s 82us/sample - loss: 0.8738\n",
      "Epoch 164/200\n",
      "162/162 [==============================] - 0s 74us/sample - loss: 0.8738\n",
      "Epoch 165/200\n",
      "162/162 [==============================] - 0s 87us/sample - loss: 0.8775\n",
      "Epoch 166/200\n",
      "162/162 [==============================] - 0s 69us/sample - loss: 0.8834\n",
      "Epoch 167/200\n",
      "162/162 [==============================] - 0s 75us/sample - loss: 0.8743\n",
      "Epoch 168/200\n",
      "162/162 [==============================] - 0s 76us/sample - loss: 0.8726\n",
      "Epoch 169/200\n",
      "162/162 [==============================] - 0s 89us/sample - loss: 0.8710\n",
      "Epoch 170/200\n",
      "162/162 [==============================] - 0s 87us/sample - loss: 0.8729\n",
      "Epoch 171/200\n",
      "162/162 [==============================] - 0s 78us/sample - loss: 0.8799\n",
      "Epoch 172/200\n",
      "162/162 [==============================] - 0s 78us/sample - loss: 0.8755\n",
      "Epoch 173/200\n",
      "162/162 [==============================] - 0s 73us/sample - loss: 0.8727\n",
      "Epoch 174/200\n",
      "162/162 [==============================] - 0s 79us/sample - loss: 0.8831\n",
      "Epoch 175/200\n",
      "162/162 [==============================] - 0s 67us/sample - loss: 0.8723\n",
      "Epoch 176/200\n",
      "162/162 [==============================] - 0s 113us/sample - loss: 0.8726\n",
      "Epoch 177/200\n",
      "162/162 [==============================] - 0s 75us/sample - loss: 0.8722\n",
      "Epoch 178/200\n",
      "162/162 [==============================] - 0s 71us/sample - loss: 0.8865\n",
      "Epoch 179/200\n",
      "162/162 [==============================] - 0s 107us/sample - loss: 0.8798\n",
      "Epoch 180/200\n",
      "162/162 [==============================] - 0s 70us/sample - loss: 0.8729\n",
      "Epoch 181/200\n",
      "162/162 [==============================] - 0s 71us/sample - loss: 0.9265\n",
      "Epoch 182/200\n",
      "162/162 [==============================] - 0s 76us/sample - loss: 0.9389\n",
      "Epoch 183/200\n",
      "162/162 [==============================] - 0s 76us/sample - loss: 0.8733\n",
      "Epoch 184/200\n",
      "162/162 [==============================] - 0s 77us/sample - loss: 0.8868\n",
      "Epoch 185/200\n",
      "162/162 [==============================] - 0s 77us/sample - loss: 0.8784\n",
      "Epoch 186/200\n",
      "162/162 [==============================] - 0s 74us/sample - loss: 0.8706\n",
      "Epoch 187/200\n",
      "162/162 [==============================] - 0s 69us/sample - loss: 0.8747\n",
      "Epoch 188/200\n",
      "162/162 [==============================] - 0s 68us/sample - loss: 0.8712\n",
      "Epoch 189/200\n"
     ]
    },
    {
     "name": "stdout",
     "output_type": "stream",
     "text": [
      "162/162 [==============================] - 0s 73us/sample - loss: 0.8703\n",
      "Epoch 190/200\n",
      "162/162 [==============================] - 0s 64us/sample - loss: 0.8730\n",
      "Epoch 191/200\n",
      "162/162 [==============================] - 0s 68us/sample - loss: 0.8719\n",
      "Epoch 192/200\n",
      "162/162 [==============================] - 0s 75us/sample - loss: 0.8717\n",
      "Epoch 193/200\n",
      "162/162 [==============================] - 0s 74us/sample - loss: 0.8721\n",
      "Epoch 194/200\n",
      "162/162 [==============================] - 0s 74us/sample - loss: 0.8855\n",
      "Epoch 195/200\n",
      "162/162 [==============================] - 0s 77us/sample - loss: 0.8876\n",
      "Epoch 196/200\n",
      "162/162 [==============================] - 0s 66us/sample - loss: 0.8780\n",
      "Epoch 197/200\n",
      "162/162 [==============================] - 0s 73us/sample - loss: 0.8771\n",
      "Epoch 198/200\n",
      "162/162 [==============================] - 0s 78us/sample - loss: 0.8713\n",
      "Epoch 199/200\n",
      "162/162 [==============================] - 0s 88us/sample - loss: 0.8728\n",
      "Epoch 200/200\n",
      "162/162 [==============================] - 0s 83us/sample - loss: 0.8711\n"
     ]
    }
   ],
   "source": [
    "# Now create our Tensorflow model\n",
    "model = tf.keras.models.Sequential([\n",
    "    tf.keras.layers.Input(shape=(1,)),\n",
    "    tf.keras.layers.Dense(1)\n",
    "])\n",
    "\n",
    "model.compile(optimizer=tf.keras.optimizers.SGD(0.001, 0.9), loss='mse')\n",
    "\n",
    "# learning rate scheduler\n",
    "\n",
    "def schedule(epoch, lr):\n",
    "    if epoch >= 50:\n",
    "        return 0.0001\n",
    "    return 0.001\n",
    "\n",
    "scheduler = tf.keras.callbacks.LearningRateScheduler(schedule)\n",
    "\n",
    "# Train the model\n",
    "r= model.fit(X, Y, epochs=200, callbacks=[scheduler])\n",
    "\n"
   ]
  },
  {
   "cell_type": "code",
   "execution_count": 9,
   "metadata": {},
   "outputs": [
    {
     "data": {
      "text/plain": [
       "[<matplotlib.lines.Line2D at 0x7f34703bc780>]"
      ]
     },
     "execution_count": 9,
     "metadata": {},
     "output_type": "execute_result"
    },
    {
     "data": {
      "image/png": "[encoded data removed]",
      "text/plain": [
       "<Figure size 432x288 with 1 Axes>"
      ]
     },
     "metadata": {
      "needs_background": "light"
     },
     "output_type": "display_data"
    }
   ],
   "source": [
    "# Plot the loss\n",
    "plt.plot(r.history['loss'], label='loss')"
   ]
  },
  {
   "cell_type": "code",
   "execution_count": 10,
   "metadata": {},
   "outputs": [
    {
     "name": "stdout",
     "output_type": "stream",
     "text": [
      "[<tensorflow.python.keras.layers.core.Dense object at 0x7f348e3dfe10>]\n",
      "[array([[0.3391496]], dtype=float32), array([17.753777], dtype=float32)]\n"
     ]
    }
   ],
   "source": [
    "# Get the slope of the line\n",
    "# The slope of the line is related to the doublig rate of transistor count\n",
    "print(model.layers) # Note: there is only 1 layer, the \"Input\" layer doesn't count\n",
    "print(model.layers[0].get_weights())"
   ]
  },
  {
   "cell_type": "code",
   "execution_count": 11,
   "metadata": {},
   "outputs": [],
   "source": [
    " # The slope of the line is:\n",
    "a = model.layers[0].get_weights()[0][0,0]"
   ]
  },
  {
   "cell_type": "markdown",
   "metadata": {},
   "source": [
    "Our orginal model for exponentail growth is:\n",
    "<center>C = A<sub>0</sub>r<sup>t</sup></center>\n",
    "Where C is the transistor count and t is the year.\n",
    "\n",
    "r is the rate of growth. For example, when t goes from 1 to 2, C increases by a factor of r. When t goes from 2 to 3, C increases by a factor of r again.\n",
    "When we tkae the log of both sides, we get:\n",
    "<center>logC = logr*t+logA<sub>0</sub></center>\n",
    "This is our linear equation:\n",
    "<center>y' = ax + b</center>\n",
    "Where:\n",
    "<center>y' = logC</center>\n",
    "<center>a = logr</center>\n",
    "<center>x = t</center>\n",
    "<center>b = logA<sub>0</sub></center>\n",
    "We are interested in r, because that's the rate of growth. Given our regression wieghts, we know that:\n",
    "<center>a = 0.33648866</center>\n",
    "so that:\n",
    "<center>r = e<sup>0.33648866</sup> = 1.400002299</center>\n",
    "To find the time it tkaes for transistor count double, we simply need to find the amount of time it takes for C to increase to 2C.\n",
    "\n",
    "Let's call the orginal starting time t, to correspond with the inital transistor count C.\n",
    "\n",
    "Let's call the end time t', to correspond with the final transistor count 2C.\n",
    "\n",
    "Then we also have:\n",
    "<center>2C = A<sub>0</sub>r<sup>t'</sup></center>\n",
    "Combine this with our original equation:\n",
    "<center>C = A<sub>0</sub>r<sup>t</sup></center>\n",
    "We get (by dividing the 2 equations):\n",
    "<center>2C/C = (A<sub>0</sub>r<sup>t'</sup>) / A<sub>0</sub>r<sup>t</sup></center>\n",
    "Which simplifies to:\n",
    "<center>2 = r<sup>(t'-t)</sup></center>\n",
    "Solve for t' -t:\n",
    "<center>t' - t = log2/logr = log2/a</center>\n",
    "Important note! We haven't specified what the starting time t actually is, and we don't have to since we just proved that this holds for any t."
   ]
  },
  {
   "cell_type": "code",
   "execution_count": 12,
   "metadata": {},
   "outputs": [
    {
     "name": "stdout",
     "output_type": "stream",
     "text": [
      "Time to double: 2.0437800669536275\n"
     ]
    }
   ],
   "source": [
    "print(\"Time to double:\", np.log(2)/a)"
   ]
  },
  {
   "cell_type": "code",
   "execution_count": 13,
   "metadata": {},
   "outputs": [
    {
     "name": "stdout",
     "output_type": "stream",
     "text": [
      "0.341682487387313 17.764939393631764\n",
      "Time to double: 2.0286295205239204\n"
     ]
    }
   ],
   "source": [
    "# If you know the analytical solution\n",
    "X = np.array(X).flatten()\n",
    "Y = np.array(Y)\n",
    "denominator = X.dot(X) - X.mean() * X.sum()\n",
    "a = ( X.dot(Y) - Y.mean()*X.sum() ) / denominator\n",
    "b = ( Y.mean() * X.dot(X) - X.mean() * X.dot(Y) ) / denominator\n",
    "print(a,b)\n",
    "print(\"Time to double:\", np.log(2) / a)"
   ]
  },
  {
   "cell_type": "markdown",
   "metadata": {},
   "source": [
    "# Part 2: Making Predictions"
   ]
  },
  {
   "cell_type": "code",
   "execution_count": 14,
   "metadata": {},
   "outputs": [
    {
     "data": {
      "text/plain": [
       "[<matplotlib.lines.Line2D at 0x7f34703b1630>]"
      ]
     },
     "execution_count": 14,
     "metadata": {},
     "output_type": "execute_result"
    },
    {
     "data": {
      "image/png": "[encoded data removed]",
      "text/plain": [
       "<Figure size 432x288 with 1 Axes>"
      ]
     },
     "metadata": {
      "needs_background": "light"
     },
     "output_type": "display_data"
    }
   ],
   "source": [
    "Yhat = model.predict(X).flatten()\n",
    "plt.scatter(X, Y)\n",
    "plt.plot(X, Yhat)"
   ]
  },
  {
   "cell_type": "code",
   "execution_count": 15,
   "metadata": {},
   "outputs": [
    {
     "data": {
      "text/plain": [
       "True"
      ]
     },
     "execution_count": 15,
     "metadata": {},
     "output_type": "execute_result"
    }
   ],
   "source": [
    "# Manual calculation\n",
    "\n",
    "# Get the weights\n",
    "w, b = model.layers[0].get_weights()\n",
    "\n",
    "# Reshape X because we flattened it again earlier\n",
    "X = X.reshape(-1, 1)\n",
    "\n",
    "# ( N x 1) x (1 x 1) + (1) --> (N x 1)\n",
    "Yhat2 = (X.dot(w) + b).flatten()\n",
    "\n",
    "# Don't use == for floating points\n",
    "np.allclose(Yhat, Yhat2)"
   ]
  },
  {
   "cell_type": "code",
   "execution_count": null,
   "metadata": {},
   "outputs": [],
   "source": []
  }
 ],
 "metadata": {
  "kernelspec": {
   "display_name": "Python 3",
   "language": "python",
   "name": "python3"
  },
  "language_info": {
   "codemirror_mode": {
    "name": "ipython",
    "version": 3
   },
   "file_extension": ".py",
   "mimetype": "text/x-python",
   "name": "python",
   "nbconvert_exporter": "python",
   "pygments_lexer": "ipython3",
   "version": "3.6.9"
  }
 },
 "nbformat": 4,
 "nbformat_minor": 2
}
