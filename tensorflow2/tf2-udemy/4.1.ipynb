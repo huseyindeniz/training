{
 "cells": [
  {
   "cell_type": "markdown",
   "metadata": {},
   "source": [
    "# Artifical Neural Networks (ANNs)\n",
    "\n",
    "##  Feedforward Neural Networks"
   ]
  },
  {
   "cell_type": "markdown",
   "metadata": {},
   "source": [
    "# Section Outline\n",
    "\n",
    "- Model architecture\n",
    "    - How does a feedforward neural network work?\n",
    "    - What is its \"equation\"?\n",
    "- The geometric picture\n",
    "    - How does this relate back to \"machine learning is nothing but a geometry problem\"?\n",
    "- Activation functions\n",
    "    - These are what make neural networks more powerful\n",
    "- Multiclass classification\n",
    "    - Previously only discussed binary classification\n",
    "- Image data\n",
    "    - Deep learning excels at images, text and sound\n",
    "    - How does this relate to all data is the same?\n",
    "- Image classification notebook; Regression notebook"
   ]
  },
  {
   "cell_type": "code",
   "execution_count": null,
   "metadata": {},
   "outputs": [],
   "source": []
  }
 ],
 "metadata": {
  "kernelspec": {
   "display_name": "Python 3",
   "language": "python",
   "name": "python3"
  },
  "language_info": {
   "codemirror_mode": {
    "name": "ipython",
    "version": 3
   },
   "file_extension": ".py",
   "mimetype": "text/x-python",
   "name": "python",
   "nbconvert_exporter": "python",
   "pygments_lexer": "ipython3",
   "version": "3.6.9"
  }
 },
 "nbformat": 4,
 "nbformat_minor": 2
}
