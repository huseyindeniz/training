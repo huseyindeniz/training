{
 "cells": [
  {
   "cell_type": "markdown",
   "metadata": {},
   "source": [
    "# Linear Regression"
   ]
  },
  {
   "cell_type": "markdown",
   "metadata": {},
   "source": [
    "1. Load n the data (X and Y) - may involve transforming data\n",
    "2. Instantiate the model\n",
    "3. Train (\"fit\") the model\n",
    "4. Evaluate the model"
   ]
  },
  {
   "cell_type": "markdown",
   "metadata": {},
   "source": [
    "### No Activation Function\n",
    "\n",
    "<code>model = tf.kreas.models.Sequential([\n",
    "    tf.keras.layers.Input(shape=(1,)),\n",
    "    **tf.keras.layers.Dense(1)**\n",
    "])</code>"
   ]
  },
  {
   "cell_type": "markdown",
   "metadata": {},
   "source": [
    "### Stochastic Gradient Descent (SGD)\n",
    "\n",
    "<code>model.compile(**optimizer=tf.keras.optimizers.SGD(0.001, 0.9)**,\n",
    "    loss='mse')</code>"
   ]
  },
  {
   "cell_type": "markdown",
   "metadata": {},
   "source": [
    "### Loss\n",
    "\n",
    "<code>model.compile(optimizer=tf.keras.optimizers.SGD(0.001, 0.9),\n",
    "    **loss='mse'**)</code>"
   ]
  },
  {
   "cell_type": "markdown",
   "metadata": {},
   "source": [
    "MSE = mean squared error\n",
    "\n",
    "![title](images/3-4-1.png)\n",
    "\n",
    "![title](images/3-4-2.png)"
   ]
  },
  {
   "cell_type": "markdown",
   "metadata": {},
   "source": [
    "### Why no accuracy\n",
    "\n",
    "* For classification, this make sense. if the target = 1 and prediction = 1, we are correct!\n",
    "* For regression, it's very unlikely that the prediction will equal the target\n",
    "* Ex. target = 1, prediction = 1.001\n",
    "    * This is a good prediction"
   ]
  },
  {
   "cell_type": "code",
   "execution_count": null,
   "metadata": {},
   "outputs": [],
   "source": []
  }
 ],
 "metadata": {
  "kernelspec": {
   "display_name": "Python 3",
   "language": "python",
   "name": "python3"
  },
  "language_info": {
   "codemirror_mode": {
    "name": "ipython",
    "version": 3
   },
   "file_extension": ".py",
   "mimetype": "text/x-python",
   "name": "python",
   "nbconvert_exporter": "python",
   "pygments_lexer": "ipython3",
   "version": "3.6.6"
  }
 },
 "nbformat": 4,
 "nbformat_minor": 2
}
