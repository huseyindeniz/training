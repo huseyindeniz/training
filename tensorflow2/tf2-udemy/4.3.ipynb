{
 "cells": [
  {
   "cell_type": "markdown",
   "metadata": {},
   "source": [
    "# \"Automatic\" Feature Engineering\n",
    "\n",
    "- W's and b's are randomly initialized, found iteratively using gradient descent\n",
    "- In the olden days of machine learning, feature engineering was at times the only way to apply ML successfully (see: computer vision)\n",
    "- Unfortunately this often requires domain knowledge\n",
    "- Eg. to build an image classifier for lıng cancer detection, you would have to be an expert in computer vision and looking at lung cancer images\n",
    "- To build a good stock predictor, be knowledgeable about finance\n",
    "- For a fraud detector, be knowledgeable about insurance industry\n",
    "- Deep learning allows people who are not domain experts to build models\n",
    "- Nowadays, non-radiologists can build state-of-the-art image classifiers for medical diagnosis"
   ]
  },
  {
   "cell_type": "code",
   "execution_count": null,
   "metadata": {},
   "outputs": [],
   "source": []
  }
 ],
 "metadata": {
  "kernelspec": {
   "display_name": "Python 3",
   "language": "python",
   "name": "python3"
  },
  "language_info": {
   "codemirror_mode": {
    "name": "ipython",
    "version": 3
   },
   "file_extension": ".py",
   "mimetype": "text/x-python",
   "name": "python",
   "nbconvert_exporter": "python",
   "pygments_lexer": "ipython3",
   "version": "3.6.9"
  }
 },
 "nbformat": 4,
 "nbformat_minor": 2
}
